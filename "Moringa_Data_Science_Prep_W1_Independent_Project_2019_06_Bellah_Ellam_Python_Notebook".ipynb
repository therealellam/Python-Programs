{
  "nbformat": 4,
  "nbformat_minor": 0,
  "metadata": {
    "colab": {
      "name": "\"Moringa_Data_Science_Prep_W1_Independent_Project_2019_06_Bellah_Ellam_Python_Notebook\"",
      "provenance": [],
      "collapsed_sections": [],
      "authorship_tag": "ABX9TyMAXKS6WiFfwdUhtLZvscfQ",
      "include_colab_link": true
    },
    "kernelspec": {
      "name": "python3",
      "display_name": "Python 3"
    },
    "language_info": {
      "name": "python"
    }
  },
  "cells": [
    {
      "cell_type": "markdown",
      "metadata": {
        "id": "view-in-github",
        "colab_type": "text"
      },
      "source": [
        "<a href=\"https://colab.research.google.com/github/therealellam/Python-Programs/blob/main/%22Moringa_Data_Science_Prep_W1_Independent_Project_2019_06_Bellah_Ellam_Python_Notebook%22.ipynb\" target=\"_parent\"><img src=\"https://colab.research.google.com/assets/colab-badge.svg\" alt=\"Open In Colab\"/></a>"
      ]
    },
    {
      "cell_type": "code",
      "metadata": {
        "id": "AaOp35MV64IV"
      },
      "source": [
        "# Creating several python programs that should be able to \n",
        "#perform the given operations then, display the results of the operations\n",
        "\n",
        "#Exercise 1: Take in two values from a user (both in pounds) then convert those values to kilograms\n",
        "\n",
        "val1=float(input(\"Fist pound value to convert to KG= \"))\n",
        "val2=float(input(\"Second pound value to convert to KG= \"))\n",
        "\n",
        "#since 1 pound=0.453592kg\n",
        "\n",
        "val1_kg = val1*0.453592\n",
        "val2_kg = val2*0.453592\n",
        "\n",
        "#we now print out the two outputs as Kgs\n",
        "print(val1,'pounds are equal to',round(val1_kg,2), 'kgs')\n",
        "print(val2,'pounds are equal to',round(val2_kg,2), 'kgs')"
      ],
      "execution_count": null,
      "outputs": []
    },
    {
      "cell_type": "code",
      "metadata": {
        "id": "PRuRDovL7EKT"
      },
      "source": [
        "#Exercise 2: Perform the sum of the values\n",
        "\n",
        "#declare the variables first\n",
        "val1=float(input(\"Fist pound value= \"))\n",
        "val2=float(input(\"Second pound value= \"))\n",
        "\n",
        "#create a new variable sum\n",
        "sum = val1 + val2\n",
        "\n",
        "#print sum of the values\n",
        "print(sum)"
      ],
      "execution_count": null,
      "outputs": []
    },
    {
      "cell_type": "code",
      "metadata": {
        "id": "D_sX6BPI8L8s"
      },
      "source": [
        "#Exercise 3: Perform the average of the values.\n",
        "\n",
        "val1=float(input(\"Fist pound value= \"))\n",
        "val2=float(input(\"Second pound value= \"))\n",
        "\n",
        "#create a new variable average\n",
        "avrg=(val1+val2)/2\n",
        "\n",
        "#print average of the values\n",
        "print(avrg)"
      ],
      "execution_count": null,
      "outputs": []
    },
    {
      "cell_type": "code",
      "metadata": {
        "id": "DlIC_jd_9UtI"
      },
      "source": [
        "#Exercise 4: Find the difference between both values.  \n",
        "\n",
        "val1=float(input(\"Fist pound value= \"))\n",
        "val2=float(input(\"Second pound value= \"))\n",
        "\n",
        "#create a new variable diff\n",
        "diff= val1 - val2\n",
        "\n",
        "#print the difference\n",
        "print(diff)"
      ],
      "execution_count": null,
      "outputs": []
    },
    {
      "cell_type": "code",
      "metadata": {
        "id": "6GZOjk9w9xyq"
      },
      "source": [
        "#Exercise 5: Find the quotient when one value is divided by the other.\n",
        "\n",
        "val1=float(input(\"Fist pound value= \"))\n",
        "val2=float(input(\"Second pound value= \"))\n",
        "\n",
        "#create a new variable quot\n",
        "quot= val1/val2\n",
        "\n",
        "#print out quotient\n",
        "print(quot)"
      ],
      "execution_count": null,
      "outputs": []
    },
    {
      "cell_type": "code",
      "metadata": {
        "id": "BM0djiKQ_abZ"
      },
      "source": [
        "#Exercise 6: Determine and print out whether any of the numbers are even or add.\n",
        "\n",
        "val1=float(input(\"Fist pound value= \"))\n",
        "val2=float(input(\"Second pound value= \"))\n",
        "\n",
        "#use conditional if statement to determine whether the values are odd or even\n",
        "#use elif to add multiple conditions\n",
        "if val1%2==0 and val2%2==0:\n",
        "  print(\"Both values are Even\")\n",
        "\n",
        "elif val1%2 !=0 and val2%2 !=0:\n",
        "  print(\"Both values are Odd\")\n",
        "\n",
        "elif (val1%2 !=0 and val2%2 ==0) or (val1%2 ==0 and val2%2 !=0) :\n",
        "  print(\"One of the values is Odd\")"
      ],
      "execution_count": null,
      "outputs": []
    }
  ]
}